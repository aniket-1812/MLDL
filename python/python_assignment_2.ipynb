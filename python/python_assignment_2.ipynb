{
  "nbformat": 4,
  "nbformat_minor": 0,
  "metadata": {
    "colab": {
      "name": "python_assignment_2.ipynb",
      "provenance": [],
      "authorship_tag": "ABX9TyObrlXw+zzmGHjzJ4Fbp/aW",
      "include_colab_link": true
    },
    "kernelspec": {
      "name": "python3",
      "display_name": "Python 3"
    },
    "language_info": {
      "name": "python"
    }
  },
  "cells": [
    {
      "cell_type": "markdown",
      "metadata": {
        "id": "view-in-github",
        "colab_type": "text"
      },
      "source": [
        "<a href=\"https://colab.research.google.com/github/aniket-1812/MLDL/blob/master/python/python_assignment_2.ipynb\" target=\"_parent\"><img src=\"https://colab.research.google.com/assets/colab-badge.svg\" alt=\"Open In Colab\"/></a>"
      ]
    },
    {
      "cell_type": "markdown",
      "metadata": {
        "id": "b_7edR-IiT9j"
      },
      "source": [
        "### 1. Create the below pattern using nested for loop in Python.\n",
        "![Image 2.png](data:image/png;base64,iVBORw0KGgoAAAANSUhEUgAAAVkAAAE6CAIAAAAz8LZ4AAAXL0lEQVR42u3df1TV9f3AcX6E/BDwBxcQQULDSYpp/trEBH+knM7OzMrEptNiZjNb0fzRcnlyc8tOw1iZaSrqLBkmpuhEd5aJqEzUpcnAEAJE+SHxQ+Dy815u39ebe+bXc+HekWcL+vB8/OG5hz5+vNxz3s/P+00eX/bffPONHYAez54WALCjBQDMaAEAhRYAUGgBAIUWAFBoAQCFFgBQaAEAhRYAUGgBAIUWAFBoAQCFFgBQaAEAhRYAUGgBAIUWAFBoAQCFFgBQaAEAhRYAUGgBAIUWAFBoAQCFFgBQNNuC29+Xvb19V78X4HtAsy2orKzMyclxcXEZOnSoh4dHV78doLvTWgtMbQwGQ0FBQVxcnJ+f37PPPuvl5eXs7Ozg4MAeAbBGay2QChQVFV2+fNnb2/v9998PCgp67LHHvvrqq+nTp0sRJAdd/QaBbkprLWhqajp69KhU4NatWxUVFW5ubrIjkAr87ne/GzdunJOTU1e/QaCb0loLWlparl+/npGRcaSNbATmzJnz8MMPT5o0ydfX95577unqNwh0U1prgV1bDjIzM9euXSuvS0pKQkJC1q1bFxgYSAgAGzTYAoPBcODAgTNnzsyePVuOCampqVFRUWFhYbQAsEGDLWhtba2srKyrq9PpdEajsbq6Wl54enryg0PABg22AMBdoAUAFFoAQKEFABRaAEChBQAUWgBAoQUAFFoAQKEFABRaAEChBQAUWgBAoQUAFFoAQKEFABRaAEChBQAUWgBAoQUAFFoAQNFyC8zfWmdmKHb+SkCrNNuCgoKCTZs2+fj4REdH63Q6G1eaTKbk5OSPP/549erV999/P2MU0DNprQUGg6GsrCwnJ0ce8nFxcQEBAQsXLtTr9WPHju3bt6+jo+OdF9fW1l6+fLl3794nTpzYsWNHbGysp6eni4vLyJEjmbyInkZrLairq0tISFizZo3sBRwcHGSdV1dXyxd37twZERHh6up658UXL15cuXLl1atXvby85LLBgwd/9dVXEyZMkC5IFLr6WwG+U1prgewLcnNz09PTU1JSTp8+7ezsLAmYNm3a9OnTZY9gsS+orKw8e/bs+fPn5YwgFZDtwIwZMyZNmjRlyhT2BehptNYCu7bZqvn5+W+//bb8Wl9fLy14/vnnBw4c2P4HASaTqaGhISkpSbYSsvjl4piYGMmBbB8YuIaeRoMt0Ov169atO3PmzAsvvFBcXLx3796FCxdGR0e7ublZXGk0GrOzs+fOnRseHr5kyRK5XpLx5ptvymGBfQF6Gg22QFb4jRs3pAJDhw6VPUJBQYG88Pb2tjgg2LX9r8Tm5mY5I/Tr1y8oKEi6IAkICQmRkwX7AvQ0GmyB3b//vsD/f5M2/+LA7b9cwN8yQE+mzRYA+LZoAQCFFgBQaAEAhRYAUGgBAIUWAFBoAQCFFgBQaAEAhRYAUGgBAIUWAFBoAQCFFgBQaAEAhRYAUGgBAIUWAFBoAQBFsy1oampqbm52cHBwdnbu1auXjSvlE6ivr5frPTw8nJycbPwLyHKlwWCQK41Go6enJ5MXoSWabUFeXt62bdu8vb1/9rOf+fr6WrtMvn3zbNX9+/evWrXq/vvvtxEOSUB5efn27dvt7e1/9atf9e7du6u/S+C/RmstaG1traurq6ysrKmpiY2NHTRoUHR0tHxdXri4uFg88xsaGsrKyvr06XPw4MGtW7ea5zJLGgICAto/8yvayC7jrbfeku3Dq6++KnsE+b2ym2CYAjRAay1oaWk5efJkYmKiPLQvXbok+wJ/f3+pw8svvzx8+HCLFX79+vUtW7bInt88WPHJJ5+U1T5kyJAXX3xR1vydV0ogjh07JnsHueHly5elBcHBwfLFRYsWhYaGcliABmitBY2NjadPn961a9epU6eKi4tlM+/n5xceHh4TEzNq1CiL/X9hYaFUQzYFWVlZskeQ9T969Og5c+b84he/uHPgmnxEst04fvz47t27U1NT5ZggX5EdRGRk5NKlS+W32P55BPC9oLUWyKKVVZ2bmxsfH//pp5/KNmF+m8DAwPYTU+W/VldXHzlyRNohL+QQITv/iIgI2flbPOrlU9Lr9deuXZNzR3p6utzn8ccfnzdv3tChQxm4Bm3QWgvs2lb4gQMHEhISHnroodLS0oKCAjkghIWFdbiTlwtWrlzp6Og4Y8aMDz74QH6L5MDDw6P9JDW5bXJyclxcnGwH5Fhx4cKFl1566cc//jEz16ANGmyBwWDIy8u7evXqhAkT5Mhw6dKl8ePHy0mhwxbIqj58+LC/v/+YMWPkFCB7B8mBk5NT+xVuNBpLSkqOHTv2yCOPyGV79+6VF0OGDOnqbxf479BgC0wmkzzD7dvcHpfa4fI2Xyy9uKeNdEF+lcN/h1eaf2ogd5ZNxO2LLX7ECHx/abAFAO4CLQCg0AIACi0AoNACAAotAKDQAgAKLQCg0AIACi0AoNACAAotAKDQAgAKLQCg0AIACi0AoNACAAotAKDQAgAKLQCg0AIAimZbUFVVdfLkSXd397CwMNtDUOUTuHz58sWLF2fOnDlgwADbc5b1ev2pU6ccHR2nTZvm5ORk47Ymk+nmzZvp6en33Xcfc9bQ/Wm2BVlZWWvWrAkICFi1apX8au0y85zl+Pj4jRs3btu27cEHH7Txz5wbjcbi4uK1a9dKC95++21PT08bb6C5uVn68uabb0piFi1axFBmdHNaa0FjY2NGRkZSUpKPj8+nn37q6+s7evTokpKS559/fujQoRaDD4uKinbv3i2fQGlp6fHjx3/+85/X1NTI1kBe3DlP0a7tIf/3v/89JSUlMDBQbuvh4SHVaGhoeOKJJ4YPH37nbeVu8vVPPvnk888/lz/9yJEjEyZMcHV1lXD89Kc/lZuzQUD3pLUWyDr87LPPtm/fnp+fL8cEWaWybmWX/sorr8jqtWhBXl6e7AWkHfK0r66uHjhwYL9+/aZPn75ixQqLFrS2th4+fHjHjh3Xr1+X28pX+vTpM2rUqKVLl44bN86iBfX19R999FFiYuLXX39dV1cnGw05qsiZ4qWXXpI/ghage9JaC+zaVqPBYJAc/OEPf5BF+MYbb8yePVt29R1eLFfK7kDOEfLYnzdv3urVq++9915rIxJlkSckJMi2X37Xrl27Jk6cKA98a+9BthhySNm3b9+QIUM+/PBDuS0VQHemwRbIMUE28/LAHzlypGz+ZQHLA1nWbfsfBMjTvry8XFbszZs3IyIi9uzZ8+ijj8qjXqfTtW9HbW1tamqqlEU2Anq9vrCwUMIhmwgHB4f27SgrK5O7SQgmTZqUnZ3dv39/2Zg88MADXf3ZAFZpsAVNTU1/+9vfMjMzH3nkEXk4p6Wlyf78hz/8YYctkG38u+++O2zYMFnV8vSWA8XcuXO9vLw6bEF6evqxY8fkAicnp/j4+KioqPDw8A5bIHE5ePCghOYnP/lJbm7uuXPnFi5cKG3q6s8GsEqDLQBwF2gBAIUWAFBoAQCFFgBQaAEAhRYAUGgBAIUWAFBoAQCFFgBQaAEAhRYAUGgBAIUWAFBoAQCFFgBQaAEAhRYAUGgBAIUWAFBoAQCFFgBQNNuCqqqq1NRUDw+PTs5Z/vzzzyMjIzszZzktLc3R0XH69OmdmbN85syZ4OBg23OW5cqKioqUlJQHHnhg9OjRNt4A8L+jzRbIN5WdnX17zrK/v7+1sWjftNm+fXsn5yyXlJS8/vrr0oK4uDgJjY330Pk5ywaD4cqVKwsWLFi8ePHSpUulGtbeLfC/o7UWWMxZll/lSVtaWmptzvKf//xn+QTKysqOHz8eHR1dU1Pj5+dnY87yoEGD5Erbc5blPezfv//2nOXx48fL3eS3zJ8/32LOslyZmJiYm5vbv3//+Pj48PDwwMBA+eLTTz8tu4mu/izRs2itBe3nLLu7u8u6sjFn+ezZs8XFxbdu3Ro4cGDfvn1l879y5crOzFmWLb0kxmLOslRD3oN5znJ5ebnFnGXZodzZArly69atx44dk1rJjsPT01On08kN5bYjRozo6s8SPYvWWmDX0Zzlxx57zNohvP2c5aCgIGt3lqW7Z8+e23OWw8LCXFxcrL2H2tpa85zlwYMHf/jhh3Jba7OepUSxsbESmsmTJ7/11luyf7H9kwjgf0GDLTDPWZYWhIaGyuZfr9d3cs5yQkKCec6ytdmq5jnLsueXexYUFPzHOctyVJk0aVJWVpa1OcuyiZBTiZwO5OKnnnoqPT1d4rJ+/fqAgABygO+YBlvwbecsb9y48Qc/+MG3nbMsj/GoqCh5kltrQXJysoRm1qxZubm5GRkZHc5Zljcgt92/f78cPZ599ll5q//85z9ffPFFOa3QAnzHNNgCAHeBFgBQaAEAhRYAUGgBAIUWAFBoAQCFFgBQaAEAhRYAUGgBAIUWAFBoAQCFFgBQaAEAhRYAUGgBAIUWAFBoAQCFFgBQaAEAhRYAUDTbgoqKiuzsbFdX12HDhnl6etq40mQyXb16NTc3d8KECV5eXraHoOr1+qysLKPRKBfbmLxo1zZ88euvv5bbyj3bj28DuhuttcDUxmAw5Ofnx8bGDhw48LnnntPpdLJu2w8yMLaRL+7du3fnzp1//OMfQ0JC5DIXF5f2c5ZaWlqamppu3bq1YcMGR0fHNWvWuLm5ye91cnKyuK18pHJxY2OjhOC9996bMmXK7Nmz5WKpTIfDFIDuQGstkAoUFhZeunTJ19d3y5YtQUFBjz76qDz2IyMj209AqaysPHnypDy0MzIytm7dunnz5rq6OrlDRERE+8d4ZmambDRGjRq1ceNG+a9LliwpKCgIDQ2V3Ny5lZDPU/py/vz5qqoqadC777778MMPDx8+vLa2VrYSskNhpDq6J621wDw0SSogS1G26K5tvL29X3/99bFjx1oMI5K9wzvvvPPFF1/I0760tFSiIF+Ux/hrr71mMSixtbU1OTl527Zt1dXVcrGsZ3nODx48ePny5Ra3lc+zoaFhx44d+/btkzcjb8N8Qpk4ceKrr77q5+dnbaoi0LW01gLZnBcXF587d+6vf/3roUOHZOFFRUXJk1mWoo+Pj8XPAmRhX7lyRbYGckaQLsjafuaZZ8LCwuThb/GzADl3yC5Athv79+8/evSoLP45c+bIbX/0ox9Z3NY82VVue/HiRTl3XLhwYcCAAU8//bS8AdkXuLu7sy9A96S1Fojm5mZ51K9du1ZW7I0bN4KDg3//+9/LYaHDCYVyKFi/fv1nn302YsQI2VCsWrXqueeekyNA+1O9eYUvWLBAnu2NjY2yquW2Y8aM6fA91NfXSzJkIyB/eklJydSpU2UHMWjQoK7+bACrNNgCWbSHDx8+ffr0rFmzKioq0tLS5s6dKw/wDv8HQVlZmSxpWbGRkZFbt26Vh/yyZcs8PDzat0B2HCkpKZ988slTTz0l2wTZSsyfP3/mzJkd/ixQjga7d++WvcaTTz4pYcrJyVm8eLFsN7r6swGs0mAL5Gwvm3+9Xu/l5SVdqKmpkRfWNudGo1FWrCx+nU53/fp12RFYO9LL+penfVFRUUBAgFyWl5cnL/r169fhe5A/t7KyUq6XuEhEJEn+/v7yHrr6swGs0mALANwFWgBAoQUAFFoAQKEFABRaAEChBQAUWgBAoQUAFFoAQKEFABRaAEChBQAUWgBAoQUAFFoAQKEFABRaAEChBQAUWgBA0XILzN9aZ2aWdf7Kb3sx8H2h2RbI92UymeRFZ0YYmqcwOjo6/scrzbeVX22MYAW+j7TZAvmmCgsLN23a5OPjEx0d7eXlZW2Rf9MmOTn5448/Xr16dUhIiCzyDi82V6CiomLz5s1yzfLly11cXNgdQDO01gKj0VhaWpqTkyOrNC4uLiAgYOHChXV1dePHj+/Tp4/F4AP5+qVLlzw8PE6cOBEfH79hwwZ5LSt85MiRFkOW5FMqKCjIz8+Xm/zpT39yc3NbtmyZXq8fNmxY//79GZEIDdBaC2R579mz57XXXpO9gJwOevfuXVVVVV9fv2vXrilTpri6ut558cWLF1esWHHlyhWdTnfr1q3AwEBZ7RMnTty5c6d5IKqZfEStra3vvffeG2+84e3tbR6seuPGjX79+q1fv37GjBkWg1iB7yOttcBgMOTl5aWnpx89evTUqVO9evWaOnXqtDb+/v7tZ65nZGScP3/+4MGDUoHQ0NDIyMiwsLCIiAiLfYGcDr788svTp08fP35cfpXdx6xZsx566CHpi2w92BdAA7TWAru2HMh+PjY29tq1a7KNnzx58i9/+UtfX9/2P+0zz0dPSkqSrYSzs7NcHBMTM3PmTHndfuBaS0tLUVHRb3/727KyMtl9yG2XLl06ePBgfmQAbdBgC2RJr1u37h//+IckoLi4ODExccGCBdHR0bKxt7hSHu/Z2dnz5s2TjcCSJUteeOGFAQMGyLZfVnj7oczl5eXvvPPOoUOHpBeyTZDL5P7Lli2TK8kBNECDLZAVLof5kpKS4OBgeZgXFhbed999cs5vvy+QJS0XXLhwoW/fvrL+s7KyZGGHhIR0uC9obm6uqKjIzMwcPXq0XHb27NkHH3zQz8+PEEAbNNgCAHeBFgBQaAEAhRYAUGgBAIUWAFBoAQCFFgBQaAEAhRYAUGgBAIUWAFBoAQCFFgBQaAEAhRYAUGgBAIUWAFBoAQCFFgBQaAEARbMtaGpqamlpcXBw6NXGxpXyCdTX1zc3N7u7uzs5ObX/F5CBnkCzLcjLy9uyZYuPj8+iRYt8fX1tXNna2nrgwIGkpKRf//rXw4cPtx0OQKu01gJZ2DU1NeXl5XV1dRs2bBg0aNAzzzwj32NQUJCrq6vFM1+2A8XFxX369Dl06NC2bds2btzo7e0tXw8MDGSkOnoarbVAzgWpqakJCQm9e/fOzMzU6XR+fn7SheXLl48YMcJihRcVFW3evLmxsbGqqurcuXNPPPGERCQ4ODgmJsbZ2bmrvxXgO6W1FsjCPnv27EcffXTy5Mlr167Z29vLQz4iImLZsmWhoaEW+39pwb59+w4fPvzFF1/U1ta6u7uPGTPm8ccfX7x4scVEZkDztNYCOSM0NDTk5OTEx8dLDpqamqKiohYsWNDhGaG5ubm6ulpasHv3btk7yK7hlVdemTp1at++fTkjoKfRWgvs2o4JSUlJiYmJU6ZMKSkpuXr16ssvvzx58uQOl3dxcbEcH1xcXCIjIzdt2hQWFvab3/zG09OTKYnoaTTYAqPRmJ+fLwkYN26cHBkyMzPlha+vr6OjY/uLZWuQkpLi5+c3atSotLQ0iYLkQKpBC9DTaLAFJpPJYDDICzkRyGv1TdrbW5uMLhdIL2TxywXmF7169SIE6IE02AIAd4EWAFBoAQCFFgBQaAEAhRYAUGgBAIUWAFBoAQCFFgBQaAEAhRYAUGgBAIUWAFBoAQCFFgBQaAEAhRYAUGgBAIUWAFBoAQBFsy1obtOZOcsA7DTcgs7PWQZgp70WGI3G2tramzdv6vX623OWTSZTUFCQm5ubxQw1ALdprQUtLS0nTpwwz1n+17/+pdPpBgwYUFdXt2LFivZzlgHcprUWmOcs79mzp/2cZWkBPzgArNFaC8xzlr/88ssdO3akpaU1NTXNnTvX2pxlALdprQV2/56z/Je//GXq1KnmOcsxMTHh4eEcEAAbNNgC85zl3NzcsWPH/sc5ywDMNNgCk8kkWwN7e/vOzFkGYKbBFgC4C7QAgEILACi0AIBCCwAotACAQgsAKLQAgEILACi0AIBCCwAotACAQgsAKLQAgEILACi0AIBCCwAotACAQgsAKLQAgEILACi0AIBCCwAotACAQgsAKLQAgEILACi0AIBCCwAotACAQgsAKLQAgEILACi0AIBCCwAotACAQgsAKLQAgEILACi0AIBCCwAotACA8n+cPahQVbr3UAAAAABJRU5ErkJggg==)"
      ]
    },
    {
      "cell_type": "code",
      "metadata": {
        "colab": {
          "base_uri": "https://localhost:8080/"
        },
        "id": "vbNzBEeSibq-",
        "outputId": "4c6fad1f-5f93-4bed-bff7-a0cddc5716ff"
      },
      "source": [
        "n = int(input(\"Enter any value : \"))\n",
        "totalRows = n * 2 - 1\n",
        "for i in range(1, totalRows+1):\n",
        "  if i > n:\n",
        "    j = 2*n-i\n",
        "    while j > 0:\n",
        "      print(\"*\", end=\" \")\n",
        "      j -= 1\n",
        "  else:\n",
        "    for j in range(1, i+1):\n",
        "      print(\"*\", end=\" \")\n",
        "    \n",
        "  print(\"\\n\")"
      ],
      "execution_count": 6,
      "outputs": [
        {
          "output_type": "stream",
          "name": "stdout",
          "text": [
            "Enter any value : 5\n",
            "* \n",
            "\n",
            "* * \n",
            "\n",
            "* * * \n",
            "\n",
            "* * * * \n",
            "\n",
            "* * * * * \n",
            "\n",
            "* * * * \n",
            "\n",
            "* * * \n",
            "\n",
            "* * \n",
            "\n",
            "* \n",
            "\n"
          ]
        }
      ]
    },
    {
      "cell_type": "markdown",
      "metadata": {
        "id": "581RF1ESjUjl"
      },
      "source": [
        "### 2. Write a Python program to reverse a word after accepting the input from the user."
      ]
    },
    {
      "cell_type": "code",
      "metadata": {
        "colab": {
          "base_uri": "https://localhost:8080/"
        },
        "id": "5i5Gw6o8jZ2M",
        "outputId": "a06d2f1d-8d79-4ca6-f0fc-0994bab79ee8"
      },
      "source": [
        "word = input(\"Enter any word : \")\n",
        "print(f\"Reverse of the word is {word[::-1]}\")"
      ],
      "execution_count": 7,
      "outputs": [
        {
          "output_type": "stream",
          "name": "stdout",
          "text": [
            "Enter any word : ineuron\n",
            "Reverse of the word is norueni\n"
          ]
        }
      ]
    }
  ]
}